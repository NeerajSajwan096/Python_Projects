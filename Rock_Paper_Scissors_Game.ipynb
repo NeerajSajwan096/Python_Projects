{
 "cells": [
  {
   "cell_type": "code",
   "execution_count": 1,
   "metadata": {},
   "outputs": [
    {
     "name": "stdout",
     "output_type": "stream",
     "text": [
      "ROCK, PAPER, SCISSORS\n",
      "% Wins, % Losses, % Ties (0, 0, 0)\n",
      "Enter Your Move: (r)ock (p)aper (s)cissors or (q)uit\n",
      "q\n"
     ]
    },
    {
     "ename": "SystemExit",
     "evalue": "Thank You.Have a good day",
     "output_type": "error",
     "traceback": [
      "An exception has occurred, use %tb to see the full traceback.\n",
      "\u001b[1;31mSystemExit\u001b[0m\u001b[1;31m:\u001b[0m Thank You.Have a good day\n"
     ]
    },
    {
     "name": "stderr",
     "output_type": "stream",
     "text": [
      "C:\\Users\\neeru\\Anaconda3\\lib\\site-packages\\IPython\\core\\interactiveshell.py:3339: UserWarning: To exit: use 'exit', 'quit', or Ctrl-D.\n",
      "  warn(\"To exit: use 'exit', 'quit', or Ctrl-D.\", stacklevel=1)\n"
     ]
    }
   ],
   "source": [
    "import random, sys\n",
    "\n",
    "print('ROCK, PAPER, SCISSORS')\n",
    "\n",
    "wins=0\n",
    "losses=0\n",
    "ties=0\n",
    "\n",
    "while True:\n",
    "    print('% Wins, % Losses, % Ties',(wins,losses,ties))\n",
    "    while True:\n",
    "        print('Enter Your Move: (r)ock (p)aper (s)cissors or (q)uit')\n",
    "        playerMove=input()\n",
    "        if playerMove=='q':\n",
    "            ##print('Thank you for your response. Have a good day')\n",
    "            sys.exit('Thank You.Have a good day')\n",
    "            ##quit()\n",
    "            \n",
    "        if playerMove=='r' or playerMove=='p' or playerMove=='s':\n",
    "            break\n",
    "        print('type one of r, p, s or q.')\n",
    "  ## Player Selection\n",
    "    if playerMove == 'r':\n",
    "        print('ROCK versus...')\n",
    "    elif playerMove == 'p':\n",
    "        print('PAPER versus...')\n",
    "    elif playerMove == 's':\n",
    "        print('SCISSORS versus...')\n",
    "\n",
    "    ## Computer Selection\n",
    "    randomNumber = random.randint(1,3)\n",
    "    if randomNumber == 1:\n",
    "        computerMove = 'r'\n",
    "        print('ROCK')\n",
    "    elif randomNumber == 2:\n",
    "        computerMove = 'p'\n",
    "        print('PAPER')\n",
    "    elif randomNumber == 3:\n",
    "        computerMove = 's'\n",
    "        print('SCISSORS')\n",
    "\n",
    "    ## Game Moves and Recording wins/losses/Ties\n",
    "    if playerMove == computerMove:\n",
    "        print('It is a Tie!')\n",
    "        ties=ties+1\n",
    "    elif playerMove =='r' and computerMove == 's':\n",
    "        print('You Won!')\n",
    "        wins=wins+1\n",
    "    elif playerMove =='p' and computerMove == 'r':\n",
    "        print('You Won!')\n",
    "        wins=wins+1\n",
    "    elif playerMove =='s' and computerMove == 'p':\n",
    "        print('You Won!')\n",
    "        wins=wins+1\n",
    "    elif playerMove =='r' and computerMove == 'p':\n",
    "        print('You Lose!')\n",
    "        losses=losses+1\n",
    "    elif playerMove =='s' and computerMove == 'p':\n",
    "        print('You Lose!')\n",
    "        losses=losses+1\n",
    "    elif playerMove =='p' and computerMove == 's':\n",
    "        print('You Lose!')\n",
    "        losses=losses+1\n"
   ]
  },
  {
   "cell_type": "code",
   "execution_count": null,
   "metadata": {},
   "outputs": [],
   "source": []
  },
  {
   "cell_type": "code",
   "execution_count": null,
   "metadata": {},
   "outputs": [],
   "source": []
  }
 ],
 "metadata": {
  "kernelspec": {
   "display_name": "Python 3",
   "language": "python",
   "name": "python3"
  },
  "language_info": {
   "codemirror_mode": {
    "name": "ipython",
    "version": 3
   },
   "file_extension": ".py",
   "mimetype": "text/x-python",
   "name": "python",
   "nbconvert_exporter": "python",
   "pygments_lexer": "ipython3",
   "version": "3.7.3"
  }
 },
 "nbformat": 4,
 "nbformat_minor": 4
}
